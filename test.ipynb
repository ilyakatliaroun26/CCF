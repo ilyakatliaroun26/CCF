{
 "cells": [
  {
   "cell_type": "code",
   "execution_count": 1,
   "metadata": {},
   "outputs": [],
   "source": [
    "from src.db_connect import RedshiftClient"
   ]
  },
  {
   "cell_type": "code",
   "execution_count": 2,
   "metadata": {},
   "outputs": [],
   "source": [
    "rds_connect = RedshiftClient()"
   ]
  },
  {
   "cell_type": "code",
   "execution_count": 3,
   "metadata": {},
   "outputs": [
    {
     "name": "stderr",
     "output_type": "stream",
     "text": [
      "/Users/ilya.katliarou/Documents/CCF/src/db_connect.py:45: UserWarning: pandas only supports SQLAlchemy connectable (engine/connection) or database string URI or sqlite3 DBAPI2 connection. Other DBAPI2 objects are not tested. Please consider using SQLAlchemy.\n",
      "  return pd.read_sql(query, self.conn)\n"
     ]
    },
    {
     "name": "stdout",
     "output_type": "stream",
     "text": [
      "                                user_id dunning_second_reminder_date  \\\n",
      "0  0000096f-86ea-4f59-bc30-f34b287df2f8                   2023-09-14   \n",
      "1  00002055-37a9-4c0e-b0af-065c2d614490                   2019-11-21   \n",
      "2  00003756-7985-4b8b-9631-0f9df57281af                         None   \n",
      "3  000062f6-18bf-4078-869e-82969203f3b6                   2022-02-24   \n",
      "4  00006cc0-bb7c-45a9-a9d5-b9c19ca2f0c6                   2018-05-17   \n",
      "\n",
      "  dunning_downgrade_date dunning_closure_date write_off_date  \\\n",
      "0                   None                 None           None   \n",
      "1             2019-12-06                 None           None   \n",
      "2                   None                 None           None   \n",
      "3                   None           2022-03-21     2022-03-21   \n",
      "4                   None           2018-05-31           None   \n",
      "\n",
      "  d26_insolvency_date infocard_date schufa_insolvency_date  \\\n",
      "0                None          None                   None   \n",
      "1                None          None                   None   \n",
      "2                None          None                   None   \n",
      "3                None          None                   None   \n",
      "4                None          None                   None   \n",
      "\n",
      "  crif_insolvency_date internal_default_date default_date  \\\n",
      "0                 None            2023-09-14   2023-09-14   \n",
      "1                 None            2019-11-21   2019-11-21   \n",
      "2           2018-12-22                  None   2018-12-22   \n",
      "3                 None            2022-02-24   2022-02-24   \n",
      "4                 None            2018-05-17   2018-05-17   \n",
      "\n",
      "                 default_reason  \n",
      "0  dunning_second_reminder_date  \n",
      "1  dunning_second_reminder_date  \n",
      "2          crif_insolvency_date  \n",
      "3  dunning_second_reminder_date  \n",
      "4  dunning_second_reminder_date  \n"
     ]
    }
   ],
   "source": [
    "df = rds_connect.run_query(\"default_flag.sql\", mode=\"training\")\n",
    "print(df.head())"
   ]
  },
  {
   "cell_type": "code",
   "execution_count": null,
   "metadata": {},
   "outputs": [],
   "source": []
  }
 ],
 "metadata": {
  "kernelspec": {
   "display_name": "venv",
   "language": "python",
   "name": "python3"
  },
  "language_info": {
   "codemirror_mode": {
    "name": "ipython",
    "version": 3
   },
   "file_extension": ".py",
   "mimetype": "text/x-python",
   "name": "python",
   "nbconvert_exporter": "python",
   "pygments_lexer": "ipython3",
   "version": "3.12.11"
  }
 },
 "nbformat": 4,
 "nbformat_minor": 2
}
